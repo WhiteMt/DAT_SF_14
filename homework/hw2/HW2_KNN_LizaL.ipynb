{
 "cells": [
  {
   "cell_type": "code",
   "execution_count": 27,
   "metadata": {
    "collapsed": false
   },
   "outputs": [
    {
     "data": {
      "text/plain": [
       "0.93333333333333335"
      ]
     },
     "execution_count": 27,
     "metadata": {},
     "output_type": "execute_result"
    }
   ],
   "source": [
    "#The purpose is to gain deep, hands-on experience with KNN, cross validation, and selection of model parameters. \n",
    "#Although the Scikit-learn package provides nicely packaged methods, cross-validation is such an important concept \n",
    "#that we will implement it ourselves in this assignment. We will then use our implementation of cross-validation \n",
    "#to select some model parameters – also called “hyperparameters” – for our KNN classifier on the Iris dataset.\n",
    "\n",
    "#1 Implement KNN classification, using the sklearn package. We learned how to do this in class. See also: http://scikit-learn.org/stable/modules/neighbors.html#nearest- neighbors-classification\n",
    "\n",
    "# comment > applying Apply the k-NN Algorithm, Using Cross Validation, Apply Scaling\n",
    "\n",
    "%matplotlib inline\n",
    "from __future__ import division\n",
    "import pandas as pd\n",
    "import numpy as np\n",
    "import matplotlib.pyplot as plt\n",
    "import sklearn\n",
    "from sklearn import neighbors, datasets\n",
    "from sklearn.neighbors import KNeighborsClassifier\n",
    "from sklearn.cross_validation import train_test_split\n",
    "from sklearn.preprocessing import Imputer\n",
    "from sklearn.datasets import load_iris\n",
    "\n",
    "X_train, X_test, y_train, y_test = train_test_split(iris.data, iris.target, test_size=0.3, random_state=8)\n",
    "\n",
    "knn = KNeighborsClassifier(3).fit(X_train,y_train)\n",
    "\n",
    "knn.score(X_test, y_test)"
   ]
  },
  {
   "cell_type": "code",
   "execution_count": null,
   "metadata": {
    "collapsed": false
   },
   "outputs": [],
   "source": []
  },
  {
   "cell_type": "code",
   "execution_count": 39,
   "metadata": {
    "collapsed": false
   },
   "outputs": [
    {
     "name": "stdout",
     "output_type": "stream",
     "text": [
      "[ 0.93333333  1.          1.          0.96666667  1.        ]\n",
      "0.98\n"
     ]
    }
   ],
   "source": [
    "#2 Use the sklearn package to implement cross-validation for your classifier. Use 5 folds for \n",
    "#your cross-validation. See also: http://scikit-learn.org/stable/modules/cross_validation.html#\n",
    "\n",
    "from matplotlib.colors import ListedColormap\n",
    "from sklearn import neighbors, datasets, feature_selection\n",
    "from sklearn.cross_validation import train_test_split, cross_val_score\n",
    "from sklearn.preprocessing import scale\n",
    "\n",
    "from sklearn.datasets import load_iris\n",
    "iris = datasets.load_iris()\n",
    "iris_df = pd.DataFrame(iris.data, columns=iris.feature_names)\n",
    "\n",
    "clf = neighbors.KNeighborsClassifier(11, weights='uniform')\n",
    "clf.fit(iris.data, iris.target)\n",
    "scores = cross_val_score(clf, iris_df.values, iris.target, cv=5)\n",
    "\n",
    "print scores\n",
    "print scores.mean()\n",
    "\n",
    "# got this prior for #1  0.93333333333333335"
   ]
  },
  {
   "cell_type": "code",
   "execution_count": 49,
   "metadata": {
    "collapsed": false
   },
   "outputs": [
    {
     "name": "stdout",
     "output_type": "stream",
     "text": [
      "[1, 2, 3, 4, 5, 6, 7, 8, 9, 10, 11, 12, 13, 14, 15, 16, 17, 18, 19, 20, 21, 22, 23, 24, 25, 26, 27, 28, 29, 30, 31, 32, 33, 34, 35, 36, 37, 38, 39, 40, 41, 42, 43, 44, 45, 46, 47, 48, 49, 50]\n"
     ]
    }
   ],
   "source": [
    "##3 Use your KNN classifier and cross-validation code from (1) and (2) above to determine the optimal value of K \n",
    "#(number of nearest neighbors to consult) for this Iris dataset. Hint: This hyperparameter will be a number between \n",
    "#1 and 150 :)\n",
    "\n",
    "n_neighbors = range(1, 51)\n",
    "print n_neighbors"
   ]
  },
  {
   "cell_type": "code",
   "execution_count": 50,
   "metadata": {
    "collapsed": false
   },
   "outputs": [
    {
     "name": "stdout",
     "output_type": "stream",
     "text": [
      "[0.93333333333333335, 0.93333333333333335, 0.93333333333333335, 0.9555555555555556, 0.9555555555555556, 0.9555555555555556, 0.97777777777777775, 0.97777777777777775, 0.9555555555555556, 0.97777777777777775, 0.93333333333333335, 0.93333333333333335, 0.9555555555555556, 0.93333333333333335, 0.9555555555555556, 0.93333333333333335, 0.9555555555555556, 0.9555555555555556, 0.9555555555555556, 0.93333333333333335, 0.91111111111111109, 0.91111111111111109, 0.93333333333333335, 0.93333333333333335, 0.9555555555555556, 0.9555555555555556, 0.9555555555555556, 0.93333333333333335, 0.93333333333333335, 0.93333333333333335, 0.93333333333333335, 0.93333333333333335, 0.91111111111111109, 0.91111111111111109, 0.91111111111111109, 0.93333333333333335, 0.91111111111111109, 0.91111111111111109, 0.91111111111111109, 0.88888888888888884, 0.88888888888888884, 0.88888888888888884, 0.91111111111111109, 0.91111111111111109, 0.91111111111111109, 0.88888888888888884, 0.88888888888888884, 0.91111111111111109, 0.88888888888888884, 0.88888888888888884]\n"
     ]
    }
   ],
   "source": [
    "scorez = []\n",
    "for n in n_neighbors:\n",
    "    clf = neighbors.KNeighborsClassifier(n)\n",
    "    clf.fit(X_train, y_train)\n",
    "    scorez.append((clf.score(X_test, y_test)))\n",
    "    \n",
    "print scorez"
   ]
  },
  {
   "cell_type": "code",
   "execution_count": 51,
   "metadata": {
    "collapsed": false,
    "scrolled": true
   },
   "outputs": [
    {
     "data": {
      "text/plain": [
       "<matplotlib.collections.QuadMesh at 0x11be48350>"
      ]
     },
     "execution_count": 51,
     "metadata": {},
     "output_type": "execute_result"
    },
    {
     "data": {
      "image/png": "[encoded data removed]",
      "text/plain": [
       "<matplotlib.figure.Figure at 0x11ac9d3d0>"
      ]
     },
     "metadata": {},
     "output_type": "display_data"
    }
   ],
   "source": [
    "#4 Using matplotlib, plot classifier accuracy versus the hyperparameter K for a range of K that you consider interesting. \n",
    "#Explain in words what you are seeing.\n",
    "\n",
    "clf = neighbors.KNeighborsClassifier(11, weights='uniform')\n",
    "clf.fit(iris.data[:, 2:4], iris.target)\n",
    "\n",
    "\n",
    "h = 0.01\n",
    "\n",
    "# Creating color map\n",
    "cmap_light = ListedColormap(['#FFAAAA', '#AAFFAA', '#AAAAFF'])\n",
    "cmap_bold = ListedColormap(['#FF0000', '#00FF00', '#0000FF'])\n",
    "\n",
    "# Plotting the decision boundary.\n",
    "x_min, y_min = iris_df.min()[['petal length (cm)', 'petal width (cm)']]\n",
    "x_max, y_max = iris_df.max()[['petal length (cm)', 'petal width (cm)']]\n",
    "\n",
    "xx, yy = np.meshgrid(np.arange(x_min, x_max, h), np.arange(y_min, y_max, h))\n",
    "Z = clf.predict(np.c_[xx.ravel(), yy.ravel()])\n",
    "\n",
    "# Putting the result into a color plot\n",
    "Z = Z.reshape(xx.shape)\n",
    "\n",
    "plt.figure(figsize=(18,6))\n",
    "plt.pcolormesh(xx, yy, Z, cmap=cmap_light)\n",
    "\n"
   ]
  },
  {
   "cell_type": "code",
   "execution_count": 53,
   "metadata": {
    "collapsed": false
   },
   "outputs": [
    {
     "data": {
      "text/plain": [
       "<matplotlib.text.Text at 0x10ff20750>"
      ]
     },
     "execution_count": 53,
     "metadata": {},
     "output_type": "execute_result"
    },
    {
     "data": {
      "image/png": "[encoded data removed]",
      "text/plain": [
       "<matplotlib.figure.Figure at 0x126baab50>"
      ]
     },
     "metadata": {},
     "output_type": "display_data"
    }
   ],
   "source": [
    "plt.figure(figsize=(18,6))\n",
    "_ = plt.plot(n_neighbors, scorez, linewidth=3.0)\n",
    "plt.xlabel('k nearest neighbors', fontsize=16)\n",
    "plt.ylabel('KNN score', fontsize=16)\n"
   ]
  },
  {
   "cell_type": "code",
   "execution_count": null,
   "metadata": {
    "collapsed": true
   },
   "outputs": [],
   "source": []
  },
  {
   "cell_type": "code",
   "execution_count": null,
   "metadata": {
    "collapsed": true
   },
   "outputs": [],
   "source": [
    "#5 Now, write your own implementation of cross-validation in Python without using the cross-validation methods from sklearn. \n",
    "#Cross validation is a very important concept. Implementing it yourself in Python is the best way to learn and understand it. \n",
    "#Compare the results of your cross-validation code with your results using the cross-validation in sklearn.\n",
    "\n",
    "#follow steps for cross validation\n",
    "#randomly split dataset into equal partitions\n",
    "#use partition 1 as test set & union of other partitions as training set.\n",
    "# find generalization error.\n",
    "# repeat steps 2-3 using a different partition as the test set at each iteration.\n",
    "#take the average generalization error as the estimate of 00S accuracy.\n",
    "\n",
    "import random\n",
    "\n",
    "#def cv(data, folds):\n",
    "    #accuracies = []\n",
    "    #random.shuffle(array)\n",
    "    #(data)\n",
    "    \n",
    "# cross validation CV used to evaluate the model you have built. \n",
    "# Nature of the data is fair to shuffle? Sometimes it's just not.\n",
    "    \n",
    "#    from sklearn.datasets import load_iris\n",
    "#from sklearn.preprocessing import scale\n",
    "#iris = datasets.load_iris()\n",
    "#import random\n",
    "#import numpy\n",
    "\n",
    "#def cross_validate(data, folds):\n",
    "   accuracies = []\n",
    "   #1 shuffle the data \n",
    "   random.shuffle(data)\n",
    "   #2 split it into n parts\n",
    "   folds = numpy.array_split(data, folds,0)\n",
    "   #3 loop through the parts, first use 1 as test, 1+ for training, 2 as test, etc.\n",
    "   #for i in folds:\n",
    "       #knn\n",
    "        #take mean of knn for folds\n",
    "        #mean.knn\n",
    "   #4 compare and test the accuracy for each set\n",
    "   #5 average those acuracies\n",
    "   \n",
    "   return folds"
   ]
  },
  {
   "cell_type": "code",
   "execution_count": null,
   "metadata": {
    "collapsed": true
   },
   "outputs": [],
   "source": []
  },
  {
   "cell_type": "code",
   "execution_count": null,
   "metadata": {
    "collapsed": true
   },
   "outputs": [],
   "source": [
    "#6  Using the value of K obtained in (3) above, vary the number of folds used \n",
    "#for cross-validation across an interesting range, e.g. [ 2, 3, 5, 6, 10, 15]. \n",
    "#How does classifier accuracy vary with the number of folds used? Do you think there exists an optimal \n",
    "#number of folds to use for this particular problem? Why or why not? ￼"
   ]
  },
  {
   "cell_type": "code",
   "execution_count": null,
   "metadata": {
    "collapsed": true
   },
   "outputs": [],
   "source": []
  },
  {
   "cell_type": "code",
   "execution_count": null,
   "metadata": {
    "collapsed": true
   },
   "outputs": [],
   "source": [
    "##7 Write your own implementation of KNN classification in Python, without using the methods from sklearn. \n",
    "#Compare your results with the results you obtained using sklearn."
   ]
  }
 ],
 "metadata": {
  "kernelspec": {
   "display_name": "Python 2",
   "language": "python",
   "name": "python2"
  },
  "language_info": {
   "codemirror_mode": {
    "name": "ipython",
    "version": 2
   },
   "file_extension": ".py",
   "mimetype": "text/x-python",
   "name": "python",
   "nbconvert_exporter": "python",
   "pygments_lexer": "ipython2",
   "version": "2.7.9"
  }
 },
 "nbformat": 4,
 "nbformat_minor": 0
}
