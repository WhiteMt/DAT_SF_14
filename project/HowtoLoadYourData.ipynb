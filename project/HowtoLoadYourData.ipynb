{
 "cells": [
  {
   "cell_type": "markdown",
   "metadata": {},
   "source": [
    "- Go to https://archive.ics.uci.edu/ml/machine-learning-databases/00327/Training%20Dataset.arff\n",
    "- right click on the page and click 'Save As' and name something ending with .arff"
   ]
  },
  {
   "cell_type": "code",
   "execution_count": null,
   "metadata": {
    "collapsed": false
   },
   "outputs": [],
   "source": []
  },
  {
   "cell_type": "code",
   "execution_count": 13,
   "metadata": {
    "collapsed": false
   },
   "outputs": [],
   "source": [
    "# import pandas and arff\n",
    "import pandas as pd\n",
    "import arff\n",
    "import urllib2\n",
    "import matplotlib.pyplot as plt\n",
    "\n",
    "%matplotlib inline"
   ]
  },
  {
   "cell_type": "markdown",
   "metadata": {},
   "source": [
    "### load the data with the path to the file and the name you gave it"
   ]
  },
  {
   "cell_type": "code",
   "execution_count": 4,
   "metadata": {
    "collapsed": false
   },
   "outputs": [],
   "source": [
    "# load the data, which is now stored in a dictionary\n",
    "\n",
    "data_arff = arff.load(open('Dataset.arff', 'rb'))"
   ]
  },
  {
   "cell_type": "code",
   "execution_count": 5,
   "metadata": {
    "collapsed": false
   },
   "outputs": [],
   "source": [
    "# get the column names by calling the key 'attributes' and getting the first value in each tuple\n",
    "column_names = [x[0] for x in data_arff['attributes']]"
   ]
  },
  {
   "cell_type": "code",
   "execution_count": 10,
   "metadata": {
    "collapsed": false
   },
   "outputs": [],
   "source": [
    "# load the data into a pandas data frame and set the column names\n",
    "df = pd.DataFrame(data_arff['data'], columns = column_names)"
   ]
  },
  {
   "cell_type": "code",
   "execution_count": 20,
   "metadata": {
    "collapsed": false
   },
   "outputs": [
    {
     "name": "stdout",
     "output_type": "stream",
     "text": [
      "<class 'pandas.core.frame.DataFrame'>\n",
      "Int64Index: 2456 entries, 0 to 2455\n",
      "Data columns (total 31 columns):\n",
      "having_IP_Address              2456 non-null int64\n",
      "URL_Length                     2456 non-null int64\n",
      "Shortining_Service             2456 non-null int64\n",
      "having_At_Symbol               2456 non-null int64\n",
      "double_slash_redirecting       2456 non-null int64\n",
      "Prefix_Suffix                  2456 non-null int64\n",
      "having_Sub_Domain              2456 non-null int64\n",
      "SSLfinal_State                 2456 non-null int64\n",
      "Domain_registeration_length    2456 non-null int64\n",
      "Favicon                        2456 non-null int64\n",
      "port                           2456 non-null int64\n",
      "HTTPS_token                    2456 non-null int64\n",
      "Request_URL                    2456 non-null int64\n",
      "URL_of_Anchor                  2456 non-null int64\n",
      "Links_in_tags                  2456 non-null int64\n",
      "SFH                            2456 non-null int64\n",
      "Submitting_to_email            2456 non-null int64\n",
      "Abnormal_URL                   2456 non-null int64\n",
      "Redirect                       2456 non-null int64\n",
      "on_mouseover                   2456 non-null int64\n",
      "RightClick                     2456 non-null int64\n",
      "popUpWidnow                    2456 non-null int64\n",
      "Iframe                         2456 non-null int64\n",
      "age_of_domain                  2456 non-null int64\n",
      "DNSRecord                      2456 non-null int64\n",
      "web_traffic                    2456 non-null int64\n",
      "Page_Rank                      2456 non-null int64\n",
      "Google_Index                   2456 non-null int64\n",
      "Links_pointing_to_page         2456 non-null int64\n",
      "Statistical_report             2456 non-null int64\n",
      "Result                         2456 non-null int64\n",
      "dtypes: int64(31)"
     ]
    }
   ],
   "source": [
    "#df.info()"
   ]
  },
  {
   "cell_type": "code",
   "execution_count": 15,
   "metadata": {
    "collapsed": false
   },
   "outputs": [],
   "source": [
    "# change the column types from 'object' to 'int'\n",
    "df = df.astype(int)"
   ]
  },
  {
   "cell_type": "code",
   "execution_count": 18,
   "metadata": {
    "collapsed": false
   },
   "outputs": [
    {
     "data": {
      "text/plain": [
       "<matplotlib.axes._subplots.AxesSubplot at 0x10a381290>"
      ]
     },
     "execution_count": 18,
     "metadata": {},
     "output_type": "execute_result"
    },
    {
     "data": {
      "image/png": "[encoded data removed]",
      "text/plain": [
       "<matplotlib.figure.Figure at 0x10a3883d0>"
      ]
     },
     "metadata": {},
     "output_type": "display_data"
    }
   ],
   "source": [
    "df.age_of_domain.hist()"
   ]
  },
  {
   "cell_type": "code",
   "execution_count": 17,
   "metadata": {
    "collapsed": false
   },
   "outputs": [
    {
     "data": {
      "text/plain": [
       "<matplotlib.axes._subplots.AxesSubplot at 0x10a13e590>"
      ]
     },
     "execution_count": 17,
     "metadata": {},
     "output_type": "execute_result"
    },
    {
     "data": {
      "image/png": "[encoded data removed]",
      "text/plain": [
       "<matplotlib.figure.Figure at 0x10a13e250>"
      ]
     },
     "metadata": {},
     "output_type": "display_data"
    }
   ],
   "source": [
    "df.web_traffic.hist()"
   ]
  },
  {
   "cell_type": "code",
   "execution_count": null,
   "metadata": {
    "collapsed": true
   },
   "outputs": [],
   "source": [
    "# good luck!"
   ]
  }
 ],
 "metadata": {
  "kernelspec": {
   "display_name": "Python 2",
   "language": "python",
   "name": "python2"
  },
  "language_info": {
   "codemirror_mode": {
    "name": "ipython",
    "version": 2
   },
   "file_extension": ".py",
   "mimetype": "text/x-python",
   "name": "python",
   "nbconvert_exporter": "python",
   "pygments_lexer": "ipython2",
   "version": "2.7.9"
  }
 },
 "nbformat": 4,
 "nbformat_minor": 0
}
